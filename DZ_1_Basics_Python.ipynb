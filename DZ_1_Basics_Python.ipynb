{
 "cells": [
  {
   "cell_type": "markdown",
   "metadata": {},
   "source": [
    "### Задание 1"
   ]
  },
  {
   "cell_type": "code",
   "execution_count": 15,
   "metadata": {},
   "outputs": [
    {
     "name": "stdout",
     "output_type": "stream",
     "text": [
      "Фраза 1 длиннее фразы 2\n"
     ]
    }
   ],
   "source": [
    "phrase_1 = 'Насколько проще было бы писать программы, если бы не заказчики'\n",
    "phrase_2 = '640Кб должно хватить для любых задач. Билл Гейтс (по легенде)'\n",
    "if phrase_1 > phrase_2:\n",
    "    print('Фраза 1 длиннее фразы 2')"
   ]
  },
  {
   "cell_type": "code",
   "execution_count": 17,
   "metadata": {},
   "outputs": [
    {
     "name": "stdout",
     "output_type": "stream",
     "text": [
      "Фраза 2 длиннее фразы 1\n"
     ]
    }
   ],
   "source": [
    "phrase_1 = '640Кб должно хватить для любых задач. Билл Гейтс (по легенде)'\n",
    "phrase_2 = 'Насколько проще было бы писать программы, если бы не заказчики'\n",
    "if phrase_1 < phrase_2:\n",
    "    print('Фраза 2 длиннее фразы 1')"
   ]
  },
  {
   "cell_type": "code",
   "execution_count": 24,
   "metadata": {},
   "outputs": [
    {
     "name": "stdout",
     "output_type": "stream",
     "text": [
      "Фразы равной длины\n"
     ]
    }
   ],
   "source": [
    "phrase_1 = 'Насколько проще было бы писать программы, если бы не заказчики'\n",
    "phrase_2 = 'Насколько проще было бы писать программы, если бы не заказчики'\n",
    "if phrase_1 == phrase_2:\n",
    "    print('Фразы равной длины')"
   ]
  },
  {
   "cell_type": "markdown",
   "metadata": {},
   "source": [
    "### Задание 2"
   ]
  },
  {
   "cell_type": "code",
   "execution_count": 5,
   "metadata": {},
   "outputs": [
    {
     "name": "stdout",
     "output_type": "stream",
     "text": [
      "Обычный год\n",
      "Конец программы\n"
     ]
    }
   ],
   "source": [
    "year = 2021\n",
    "if year % 400 == 0:\n",
    "    print('Високосный год')\n",
    "elif year % 100 == 0:\n",
    "    print('Високосный год')\n",
    "elif year % 4 == 0:\n",
    "    print('Високосный год')\n",
    "else:\n",
    "    print('Обычный год')\n",
    "print('Конец программы')"
   ]
  },
  {
   "cell_type": "markdown",
   "metadata": {},
   "source": [
    "### Задание 3"
   ]
  },
  {
   "cell_type": "code",
   "execution_count": 1,
   "metadata": {},
   "outputs": [
    {
     "name": "stdout",
     "output_type": "stream",
     "text": [
      "Введите день: 22\n",
      "Введите месяц: май\n",
      "Знак зодиака - Близнецы\n"
     ]
    }
   ],
   "source": [
    "day = int (input ('Введите день: '))\n",
    "month = input ('Введите месяц: ')\n",
    "if(day >= 21 and day <= 31 and month == 'март') or (month == 'апрель' and day >= 1 and day <= 19 ):\n",
    "    print('Ваш знак зодиака - Овен')\n",
    "\n",
    "elif (day >= 20 and day <= 30 and month == 'апрель') or (month == 'май' and day >= 1 and day <= 20):\n",
    "    print('Знак зодиака - Телец')\n",
    "\n",
    "elif (day >= 21 and day <= 31 and month == 'май') or (month == 'июнь' and day >= 1 and day <= 21):\n",
    "    print('Знак зодиака - Близнецы')\n",
    "\n",
    "elif (day >= 22 and day <= 30 and month == 'июнь') or (month == 'июль' and day >= 1 and day <= 22):\n",
    "    print('Знак зодиака - Рак')\n",
    "\n",
    "elif (day >= 23 and day <= 31 and month == 'июль') or (month == 'август' and day >= 1 and day <= 22):\n",
    "    print('Знак зодиака - Лев')\n",
    "\n",
    "elif (day >= 23 and day <= 31 and month == 'август') or (month == 'сентябрь' and day >= 1 and day <= 22):\n",
    "    print('Знак зодиака - Дева')\n",
    "\n",
    "elif (day >= 23 and day <= 30 and month == 'сентябрь') or (month == 'октябрь' and day >= 1 and day <= 23):\n",
    "    print('Знак зодиака - Весы')\n",
    "\n",
    "elif (day >= 24 and day <= 31 and month == 'октябрь') or (month == 'ноябрь' and day >= 1 and day <= 22):\n",
    "    print('Знак зодиака - Скорпион')\n",
    "\n",
    "elif (day >= 23 and day <= 30 and month == 'ноябрь') or (month == 'декабрь' and day >= 1 and day <= 21):\n",
    "    print('Знак зодиака - Стрелец')\n",
    "\n",
    "elif (day >= 22 and day <= 31 and month == 'декабрь') or (month == 'январь' and day >= 1 and day <= 20):\n",
    "    print('Знак зодиака - Козерог')\n",
    "\n",
    "elif (day >= 21 and day <= 31 and month == 'январь') or (month == 'февраль' and day >= 1 and day <= 18):\n",
    "    print('Знак зодиака - Водолей')\n",
    "\n",
    "elif (day >= 19 and day <= 29 and month == 'февраль') or (month == 'март' and day >= 1 and day <= 20):\n",
    "    print('Знак зодиака - Рыбы')"
   ]
  },
  {
   "cell_type": "markdown",
   "metadata": {},
   "source": [
    "### Задание 4"
   ]
  },
  {
   "cell_type": "code",
   "execution_count": 5,
   "metadata": {},
   "outputs": [
    {
     "name": "stdout",
     "output_type": "stream",
     "text": [
      "Введите ширину в см: 20\n",
      "Введите длину в см: 30\n",
      "Введите высоту в см: 50\n",
      "Коробка №2\n"
     ]
    }
   ],
   "source": [
    "width = int (input('Введите ширину в см: '))\n",
    "length = int (input('Введите длину в см: '))\n",
    "height = int (input('Введите высоту в см: '))\n",
    "\n",
    "if (width > 200 or length > 200 or height > 200):\n",
    "    print('Упаковка для лыж')\n",
    "elif (width <= 15 or length <= 15 or height <= 15):\n",
    "    print('Коробка №1')\n",
    "elif (15 < width <= 50 or 15 < length <= 50 or 15 < height <= 50):\n",
    "    print('Коробка №2')\n",
    "else:\n",
    "    print('Стандартная коробка №3')"
   ]
  },
  {
   "cell_type": "code",
   "execution_count": null,
   "metadata": {},
   "outputs": [],
   "source": []
  }
 ],
 "metadata": {
  "kernelspec": {
   "display_name": "Python 3",
   "language": "python",
   "name": "python3"
  },
  "language_info": {
   "codemirror_mode": {
    "name": "ipython",
    "version": 3
   },
   "file_extension": ".py",
   "mimetype": "text/x-python",
   "name": "python",
   "nbconvert_exporter": "python",
   "pygments_lexer": "ipython3",
   "version": "3.8.5"
  }
 },
 "nbformat": 4,
 "nbformat_minor": 4
}
